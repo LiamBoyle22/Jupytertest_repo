{
 "cells": [
  {
   "cell_type": "markdown",
   "id": "f31bc6ee-bf1a-47cc-88fb-5737601fbff3",
   "metadata": {},
   "source": [
    "# H1: Data Science tools and Ecosystem "
   ]
  },
  {
   "cell_type": "markdown",
   "id": "5efb42ac-4829-4f93-a2b0-63c3668fd953",
   "metadata": {},
   "source": [
    "## H2: In this notebook Data Science tools and ecosystem are summarised "
   ]
  },
  {
   "cell_type": "markdown",
   "id": "27c5466f-f146-4a15-bfa0-d326d1955206",
   "metadata": {},
   "source": [
    "#Some of the popular languages that Data Scientists use are: \n",
    "Python \n",
    ",R\n",
    ",Scala \n",
    ",SQL (sequel)"
   ]
  },
  {
   "cell_type": "markdown",
   "id": "50f217ff-37ea-45ec-88a1-c63d03ffa45c",
   "metadata": {},
   "source": [
    "#Some of the popular libraries that Data Scientist use are: MatPlotlib, Plotly, Numpy, and Pandas "
   ]
  },
  {
   "cell_type": "markdown",
   "id": "2942f9ee-296b-422f-a18a-0b038ad0fbaf",
   "metadata": {},
   "source": [
    "## Table:\n",
    "\n",
    "| Data Science Tools|\n",
    "| ------------------|\n",
    "| Pandas | \n",
    "| MatPlotLib | \n",
    "| NumPy | \n",
    "\n",
    "\n",
    "\n"
   ]
  },
  {
   "cell_type": "markdown",
   "id": "86e849de-74c1-4ce4-89cb-db21f6f357bb",
   "metadata": {},
   "source": [
    "### H3: Below are a few examples of evaluating arrithmatic expressions in Python"
   ]
  },
  {
   "cell_type": "code",
   "execution_count": 14,
   "id": "6b6597e7-7b7e-4bcc-98b5-f0afb601fdf1",
   "metadata": {},
   "outputs": [],
   "source": [
    "# This is a simple arithmatic expression to multiply and add integers "
   ]
  },
  {
   "cell_type": "code",
   "execution_count": 12,
   "id": "e093676f-21a8-4af8-b241-f8ee5c72db97",
   "metadata": {},
   "outputs": [
    {
     "data": {
      "text/plain": [
       "17"
      ]
     },
     "execution_count": 12,
     "metadata": {},
     "output_type": "execute_result"
    }
   ],
   "source": [
    "(3*4)+5 "
   ]
  },
  {
   "cell_type": "code",
   "execution_count": 18,
   "id": "cb02e485-a4c8-43b7-92a9-0e6441c574e2",
   "metadata": {},
   "outputs": [
    {
     "name": "stdout",
     "output_type": "stream",
     "text": [
      "3.3333333333333335\n"
     ]
    }
   ],
   "source": [
    "hours = 200 / 60\n",
    "print (hours)"
   ]
  },
  {
   "cell_type": "markdown",
   "id": "f59a1cb2-f23c-4cfd-a7fe-c2af5db787f9",
   "metadata": {},
   "source": [
    "# Objectives\n",
    "- Create a Header \n",
    "- Create List \n",
    "- List popular languages for data science"
   ]
  },
  {
   "cell_type": "markdown",
   "id": "e27be956-ec40-4de4-9afe-079235e93ee1",
   "metadata": {},
   "source": [
    "## Author \n",
    "Liam D Boyle "
   ]
  },
  {
   "cell_type": "code",
   "execution_count": null,
   "id": "2b5b261c-74e1-43d2-beb9-b996f81a1a77",
   "metadata": {},
   "outputs": [],
   "source": []
  }
 ],
 "metadata": {
  "kernelspec": {
   "display_name": "Python [conda env:base] *",
   "language": "python",
   "name": "conda-base-py"
  },
  "language_info": {
   "codemirror_mode": {
    "name": "ipython",
    "version": 3
   },
   "file_extension": ".py",
   "mimetype": "text/x-python",
   "name": "python",
   "nbconvert_exporter": "python",
   "pygments_lexer": "ipython3",
   "version": "3.12.7"
  }
 },
 "nbformat": 4,
 "nbformat_minor": 5
}
